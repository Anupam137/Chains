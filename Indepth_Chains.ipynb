{
 "cells": [
  {
   "cell_type": "markdown",
   "metadata": {},
   "source": [
    "### Sequential LCEL Chain"
   ]
  },
  {
   "cell_type": "code",
   "execution_count": 2,
   "metadata": {},
   "outputs": [
    {
     "data": {
      "text/plain": [
       "ChatOllama(model='deepseek-r1', base_url='http://localhost:11434')"
      ]
     },
     "execution_count": 2,
     "metadata": {},
     "output_type": "execute_result"
    }
   ],
   "source": [
    "from langchain_ollama import ChatOllama\n",
    "from langchain_core.prompts import (\n",
    "                                        SystemMessagePromptTemplate,\n",
    "                                        HumanMessagePromptTemplate,\n",
    "                                        ChatPromptTemplate\n",
    "                                        )\n",
    "\n",
    "base_url = \"http://localhost:11434\"\n",
    "model = 'deepseek-r1'\n",
    "\n",
    "llm = ChatOllama(base_url=base_url, model=model)\n",
    "llm"
   ]
  },
  {
   "cell_type": "code",
   "execution_count": 3,
   "metadata": {},
   "outputs": [
    {
     "name": "stdout",
     "output_type": "stream",
     "text": [
      "<think>\n",
      "Okay, so I need to understand more about AI, specifically from an engineering professor's perspective. The user provided a detailed response with ten points on AI. Let me try to unpack each of these points and see if I can grasp them.\n",
      "\n",
      "First off, AI stands for Artificial Intelligence. It refers to machines designed to simulate human intelligence functions, like learning and problem-solving. That part makes sense; I've heard it before in movies or articles about robots solving complex tasks.\n",
      "\n",
      "The first point was about what AI entails—machines that perform intelligent tasks. But how exactly do they do that? The professor mentioned machine learning, which involves algorithms improving through data exposure. Oh right, like when you use a recommendation app on a phone; the more you interact with it, the better it gets at suggesting things.\n",
      "\n",
      "General purpose vs narrow AI: General purpose can handle any intellectual task given enough resources, like chess-playing programs or self-driving cars. Narrow AI is specialized for specific tasks, such as facial recognition in security systems. I think that's right because if you ask a friend to organize an event through a smart speaker app, that's probably narrow AI.\n",
      "\n",
      "The professor talked about key applications: robotics, gaming, healthcare, finance, and autonomous vehicles. I've heard robots at work places or in homes, video games like AlphaGo playing chess—I know that was a big deal, and AI is used in trading algorithms too, which can predict market movements based on data patterns. Autonomous cars are a big topic now; they use sensors and machine learning to drive themselves.\n",
      "\n",
      "Challenges included ethical issues, bias, security, safety, regulation, and job displacement. Ethical concerns make sense—AI decisions should be transparent so people understand them rather than just trusting the black boxes. Bias could mean AI systems replicate human biases if not properly trained. Security is another big issue with things like facial recognition being hacked.\n",
      "\n",
      "Safety is a problem because autonomous vehicles might make mistakes or have unpredictable behaviors, which could lead to accidents. Regulation is tricky because different countries have varying laws on AI use and impact on privacy. Job displacement is real too; industries relying on automation might struggle if their jobs are taken over by AI without proper upskilling.\n",
      "\n",
      "The professor mentioned engineering challenges like system design for scalability and reliability, ensuring robust decision-making algorithms, human-AI collaboration, integration across systems, and ethical AI development. System design seems technical—making sure the AI can handle large amounts of data or work in teams without errors. Robust algorithms would be about making them resilient to failures. Collaboration might involve involving people in the loop so their input is considered, while integrating systems could mean connecting various AI components seamlessly.\n",
      "\n",
      "Ethical AI development ties into all these points—it's not just technical but also about values and ensuring fairness and transparency. So even if we build an advanced AI system, it has to be guided by ethical principles to prevent misuse or unintended consequences.\n",
      "\n",
      "I think I get the basics now. AI is a broad field with many applications, each presenting its own set of challenges. It's interesting how the applications range from something as common as self-driving cars to complex systems like climate modeling for scientific research. The engineering side involves both technical know-how and considering societal impacts, which makes it multifaceted.\n",
      "\n",
      "I wonder about the future of AI—how advancements will shape different industries. Also, I'm curious about the specific machine learning algorithms mentioned, like neural networks and reinforcement learning. How do they work in practice? Maybe looking into some examples would help solidify my understanding.\n",
      "\n",
      "Another thing is data privacy. Since AI often relies on vast amounts of data, handling that responsibly is crucial. Ensuring data is collected ethically and used without causing harm to individuals or groups is another layer of complexity.\n",
      "\n",
      "I also think about the role of a professor in this field. They likely stay updated with the latest research, contribute to developing new technologies, and mentor students on cutting-edge projects. Their expertise must be vital in guiding the growth and responsible use of AI technologies.\n",
      "\n",
      "Overall, it's clear that AI is here to stay, but its impact will depend on how we as a society choose to develop and implement it. Balancing innovation with ethical considerations seems key to harnessing AI's full potential without causing unintended issues.\n",
      "</think>\n",
      "\n",
      "**Understanding AI: An Exploration into Its Scope and Challenges**\n",
      "\n",
      "Artificial Intelligence (AI) refers to machines designed to simulate human intelligence, encompassing tasks like learning and problem-solving. Here's a structured overview of AI and its implications:\n",
      "\n",
      "1. **Definition and Scope**: AI involves systems that perform intelligent tasks, such as playing chess or recognizing faces, often through machine learning.\n",
      "\n",
      "2. **General Purpose vs Narrow AI**:\n",
      "   - General purpose AI can handle any intellectual task given enough resources (e.g., self-driving cars).\n",
      "   - Narrow AI is specialized for specific tasks (e.g., facial recognition systems).\n",
      "\n",
      "3. **Key Applications**: AI is deployed across various sectors including robotics, gaming, healthcare, finance, and autonomous vehicles, each presenting unique challenges.\n",
      "\n",
      "4. **Challenges**:\n",
      "   - **Ethical Concerns**: Ensuring transparency and avoiding biases in AI decisions.\n",
      "   - **Bias and Fairness**: Addressing potential replication of human biases during training.\n",
      "   - **Security**: Safeguarding AI systems from cyber threats like facial recognition hacks.\n",
      "   - **Safety**: Preventing autonomous systems from making erroneous decisions that could cause harm.\n",
      "   - **Regulation and Privacy**: Navigating legal frameworks and protecting personal data.\n",
      "   - **Job Displacement**: Managing workforce impacts as industries adopt automation.\n",
      "\n",
      "5. **Engineering Challenges**:\n",
      "   - **System Design**: Ensuring scalability, reliability, and robustness in AI systems.\n",
      "   - **Algorithm Development**: Creating resilient decision-making algorithms to handle failures.\n",
      "   - **Human-AI Collaboration**: Involving users in the development process for informed decisions.\n",
      "   - **Integration**: Seamlessly connecting various AI components within a system.\n",
      "\n",
      "6. **Ethical AI Development**: Guiding AI advancements with principles of fairness, transparency, and accountability to prevent misuse.\n",
      "\n",
      "7. **Future Implications**: The potential societal impact of AI across industries, necessitating careful planning and regulation.\n",
      "\n",
      "8. **Technical Aspects**: Understanding algorithms like neural networks (used in complex systems) and reinforcement learning (applied in gaming).\n",
      "\n",
      "9. **Data Privacy**: Addressing ethical data handling to protect individual privacy and prevent harm.\n",
      "\n",
      "10. **Role of a Professor**: Their role involves staying informed on AI advancements, contributing to technology development, and mentoring future engineers.\n",
      "\n",
      "In conclusion, while AI holds immense potential across various fields, its responsible use hinges on balancing innovation with ethical considerations. Professors play a crucial role in guiding this evolution responsibly.\n"
     ]
    }
   ],
   "source": [
    "system = SystemMessagePromptTemplate.from_template('You are {college} Professor. You answer in detail.')\n",
    "\n",
    "question = HumanMessagePromptTemplate.from_template('tell me about the {topics} in {points} points')\n",
    "\n",
    "\n",
    "messages = [system, question]\n",
    "template = ChatPromptTemplate(messages)\n",
    "\n",
    "question = template.invoke({'college': 'engineering', 'topics': 'AI', 'points': 10})\n",
    "\n",
    "response = llm.invoke(question)\n",
    "print(response.content)    "
   ]
  },
  {
   "cell_type": "code",
   "execution_count": 4,
   "metadata": {},
   "outputs": [],
   "source": [
    "system = SystemMessagePromptTemplate.from_template('You are {college} professor. You answer in short sentences.')\n",
    "\n",
    "question = HumanMessagePromptTemplate.from_template('tell me about the {topics} in {points} points')\n",
    "\n",
    "\n",
    "messages = [system, question]\n",
    "template = ChatPromptTemplate(messages)\n",
    "\n",
    "chain = template | llm\n"
   ]
  },
  {
   "cell_type": "code",
   "execution_count": 5,
   "metadata": {},
   "outputs": [
    {
     "name": "stdout",
     "output_type": "stream",
     "text": [
      "<think>\n",
      "Okay, so I need to tell someone about Ancient Greece in five points. I'm not too familiar with all the details, but I remember a few things from history class. Let me think through this step by step.\n",
      "\n",
      "First off, I know that Ancient Greece is often referred to as the cradle of Western civilization. That makes sense because so many important ideas and cultures originated there. The word \"Demokratia\" comes from Greece, right? I remember that means democracy, which was a big deal in their form of government. So maybe point one should be about Greece being the birthplace of democracy.\n",
      "\n",
      "Next, they had this thing called Ionian文明 or Ionism. It's related to the spread of Greek culture through trade and migration, especially involving ships like the Phoenicians. That probably helped spread Greek influences beyond just Greece itself. Maybe I can mention the Ionian Empire as part of their influence.\n",
      "\n",
      "Then there's philosophy. Socrates is a big name from Athens. He was involved in the Sophist school but later became known for his method of questioning, which led to the development of dialectic and the Socratic method. That influenced Western philosophy so much, so that should be another point.\n",
      "\n",
      "The Parthenon is something I've heard about. It's a temple dedicated to Athena, the goddess of wisdom and craft. Located in Athens, it was built by orders and showcases Greek architecture and art. It's considered one of the Seven Wonders of the Ancient World, so highlighting that makes sense as a key point.\n",
      "\n",
      "Lastly, democracy itself. While not all Greek city-states were fully democratic from the start, by the time of Socrates and Plato, Athens had established a representative assembly called the Athenian Assembly. This was a significant step towards modern democratic systems. So that's five points covering culture, influence, philosophy, architecture, and democracy.\n",
      "\n",
      "I should make sure each point is concise and clear. Maybe I can structure them as:\n",
      "1. Greece as the birthplace of democracy.\n",
      "2. Spread of Greek influence through Ionian Empire.\n",
      "3. Contributions to philosophy with Socrates and Athens.\n",
      "4. The Parthenon as a major architectural achievement.\n",
      "5. Establishment of democratic structures in city-states.\n",
      "\n",
      "That covers the main aspects without getting too detailed, which fits into five points nicely.\n",
      "</think>\n",
      "\n",
      "1. Ancient Greece is often called the birthplace of Western civilization due to its contributions like democracy (\"Demokratia\").\n",
      "2. The Ionian Empire extended Greek influence through trade and migration, particularly via Phoenicians.\n",
      "3. Socrates and Athens advanced philosophy with his dialectic method and teachings at the Sophist school.\n",
      "4. The Parthenon in Athens is a testament to Greek architecture and art, recognized as one of the Seven Wonders.\n",
      "5. City-states like Athens established democratic systems, including the Athenian Assembly, influencing modern democracy.\n"
     ]
    }
   ],
   "source": [
    "response = chain.invoke({'college': 'arts', 'topics': 'ancient greece', 'points': 5})\n",
    "print(response.content)"
   ]
  },
  {
   "cell_type": "code",
   "execution_count": 6,
   "metadata": {},
   "outputs": [
    {
     "name": "stdout",
     "output_type": "stream",
     "text": [
      "<think>\n",
      "Alright, so I need to figure out what the user is asking for here. They mentioned \"ancient greeces\" but spelled it as \"greces.\" That's probably a typo; they likely meant Greece.\n",
      "\n",
      "They want information about the ancient Greeks in five points. Okay, so I should think of key aspects or contributions from ancient Greece. Let me brainstorm:\n",
      "\n",
      "1. **Ancient Greek文明**: They were among the first to develop advanced civilizations with democracy and Western philosophy.\n",
      "2. **Philosophy**: Thinkers like Socrates, Plato, and Aristotle left a lasting impact on ideas.\n",
      "3. **Olympic Games**: Originated here in 776 BCE as a athletic contest.\n",
      "4. **Greek Language**: Influenced English, especially words related to Greece, law, and theater.\n",
      "5. **Mathematics & Science**: Contributions from Euclid and Archimedes were groundbreaking.\n",
      "\n",
      "I should present these points concisely since the user requested short sentences. Make sure each point is clear and highlights a significant aspect of ancient Greek history or legacy.\n",
      "</think>\n",
      "\n",
      "1. Ancient Greeks pioneered democracy and Western philosophy.  \n",
      "2. Thinkers like Socrates, Plato, and Aristotle shaped Western thought.  \n",
      "3. The Olympics originated in Greece in 776 BCE as an athletic contest.  \n",
      "4. Greek language influenced English, law, and theater terms globally.  \n",
      "5. Ancient Greeks made significant contributions to mathematics (e.g., Euclid) and science (e.g., Archimedes).\n"
     ]
    }
   ],
   "source": [
    "response = chain.invoke({'college': 'phd', 'topics': 'ancient greeces', 'points': 5})\n",
    "print(response.content)"
   ]
  },
  {
   "cell_type": "code",
   "execution_count": 7,
   "metadata": {},
   "outputs": [
    {
     "data": {
      "text/plain": [
       "AIMessage(content='<think>\\nAlright, so I need to figure out what the user is asking for here. They mentioned \"ancient greeces\" but spelled it as \"greces.\" That\\'s probably a typo; they likely meant Greece.\\n\\nThey want information about the ancient Greeks in five points. Okay, so I should think of key aspects or contributions from ancient Greece. Let me brainstorm:\\n\\n1. **Ancient Greek文明**: They were among the first to develop advanced civilizations with democracy and Western philosophy.\\n2. **Philosophy**: Thinkers like Socrates, Plato, and Aristotle left a lasting impact on ideas.\\n3. **Olympic Games**: Originated here in 776 BCE as a athletic contest.\\n4. **Greek Language**: Influenced English, especially words related to Greece, law, and theater.\\n5. **Mathematics & Science**: Contributions from Euclid and Archimedes were groundbreaking.\\n\\nI should present these points concisely since the user requested short sentences. Make sure each point is clear and highlights a significant aspect of ancient Greek history or legacy.\\n</think>\\n\\n1. Ancient Greeks pioneered democracy and Western philosophy.  \\n2. Thinkers like Socrates, Plato, and Aristotle shaped Western thought.  \\n3. The Olympics originated in Greece in 776 BCE as an athletic contest.  \\n4. Greek language influenced English, law, and theater terms globally.  \\n5. Ancient Greeks made significant contributions to mathematics (e.g., Euclid) and science (e.g., Archimedes).', additional_kwargs={}, response_metadata={'model': 'deepseek-r1', 'created_at': '2025-02-07T04:52:11.2914335Z', 'done': True, 'done_reason': 'stop', 'total_duration': 35806765900, 'load_duration': 16393800, 'prompt_eval_count': 27, 'prompt_eval_duration': 801000000, 'eval_count': 309, 'eval_duration': 34988000000, 'message': Message(role='assistant', content='', images=None, tool_calls=None)}, id='run-6fa13958-62ca-44e1-9d71-bdf325c9e7b5-0', usage_metadata={'input_tokens': 27, 'output_tokens': 309, 'total_tokens': 336})"
      ]
     },
     "execution_count": 7,
     "metadata": {},
     "output_type": "execute_result"
    }
   ],
   "source": [
    "response"
   ]
  },
  {
   "cell_type": "code",
   "execution_count": 8,
   "metadata": {},
   "outputs": [],
   "source": [
    "from langchain_core.output_parsers import StrOutputParser"
   ]
  },
  {
   "cell_type": "code",
   "execution_count": 13,
   "metadata": {},
   "outputs": [
    {
     "name": "stdout",
     "output_type": "stream",
     "text": [
      "<think>\n",
      "Okay, so I need to explain what AI is in ten bullet points as an engineering professor would do. Let's see... AI stands for Artificial Intelligence. It's all about making machines think and learn like humans. Right? So first point: AI systems can perform tasks that typically require human intelligence.\n",
      "\n",
      "Next, these systems use data to learn patterns without being explicitly programmed. That means they get better as they process more information. So maybe I should mention machine learning here because it's a key part of how AI learns.\n",
      "\n",
      "Then, applications are vast—everything from facial recognition to recommendation systems in shopping apps. People interact with AI daily through devices like smartphones and smart homes. It's also used in healthcare for diagnostics or drug discovery. Interesting point about ethical considerations; AI must be developed responsibly to avoid issues like bias or misuse of surveillance.\n",
      "\n",
      "Transparency is another concern, so it's important how AI decisions are explained to users. The development involves complex algorithms and high computational power. Also, AI impacts various industries—manufacturing with predictive maintenance, finance in algorithmic trading, and even creative fields for art or music composition.\n",
      "\n",
      "Lastly, the future includes areas like quantum computing integration and better human-AI collaboration to solve global challenges effectively.\n",
      "</think>\n",
      "\n",
      "- **Definition**: Artificial Intelligence (AI) refers to machines designed to mimic human intelligence, performing tasks requiring human-like cognitive skills.\n",
      "\n",
      "- **Core Functionality**: AI systems learn from data patterns without explicit programming, enabling self-improvement through experience.\n",
      "\n",
      "- **Applications**: Broad range of applications include facial recognition, speech recognition, machine learning algorithms, and data analysis across industries.\n",
      "\n",
      "- **Technologies**: Utilizes machine learning techniques like deep learning to process complex information and make decisions or predictions.\n",
      "\n",
      "- **User Interaction**: AI is integrated into everyday devices such as smartphones, smart homes, and autonomous vehicles for enhanced functionalities.\n",
      "\n",
      "- **Health & Education**: Applied in healthcare for diagnostics, drug discovery, personalized education platforms, and virtual assistants.\n",
      "\n",
      "- **Ethical Considerations**: Must address ethical issues like bias reduction, job displacement concerns, privacy concerns, and legal responsibilities to ensure responsible AI development.\n",
      "\n",
      "- **Transparency**: Importance of interpretable AI models to allow users to understand decision-making processes in areas like credit scoring or hiring systems.\n",
      "\n",
      "- **Computational Power**: Relies on advanced computational resources for processing large datasets and executing complex algorithms efficiently.\n",
      "\n",
      "- **Future Outlook**: AI integration into future technologies is expected, including advancements from quantum computing and enhanced human-AI collaboration to tackle global challenges.\n"
     ]
    }
   ],
   "source": [
    "chain = template | llm | StrOutputParser()\n",
    "response = chain.invoke({'college': 'engineering', 'topics': 'AI', 'points': 10})\n",
    "print(response)"
   ]
  },
  {
   "cell_type": "code",
   "execution_count": 14,
   "metadata": {},
   "outputs": [
    {
     "data": {
      "text/plain": [
       "\"<think>\\nOkay, so I need to explain what AI is in ten bullet points as an engineering professor would do. Let's see... AI stands for Artificial Intelligence. It's all about making machines think and learn like humans. Right? So first point: AI systems can perform tasks that typically require human intelligence.\\n\\nNext, these systems use data to learn patterns without being explicitly programmed. That means they get better as they process more information. So maybe I should mention machine learning here because it's a key part of how AI learns.\\n\\nThen, applications are vast—everything from facial recognition to recommendation systems in shopping apps. People interact with AI daily through devices like smartphones and smart homes. It's also used in healthcare for diagnostics or drug discovery. Interesting point about ethical considerations; AI must be developed responsibly to avoid issues like bias or misuse of surveillance.\\n\\nTransparency is another concern, so it's important how AI decisions are explained to users. The development involves complex algorithms and high computational power. Also, AI impacts various industries—manufacturing with predictive maintenance, finance in algorithmic trading, and even creative fields for art or music composition.\\n\\nLastly, the future includes areas like quantum computing integration and better human-AI collaboration to solve global challenges effectively.\\n</think>\\n\\n- **Definition**: Artificial Intelligence (AI) refers to machines designed to mimic human intelligence, performing tasks requiring human-like cognitive skills.\\n\\n- **Core Functionality**: AI systems learn from data patterns without explicit programming, enabling self-improvement through experience.\\n\\n- **Applications**: Broad range of applications include facial recognition, speech recognition, machine learning algorithms, and data analysis across industries.\\n\\n- **Technologies**: Utilizes machine learning techniques like deep learning to process complex information and make decisions or predictions.\\n\\n- **User Interaction**: AI is integrated into everyday devices such as smartphones, smart homes, and autonomous vehicles for enhanced functionalities.\\n\\n- **Health & Education**: Applied in healthcare for diagnostics, drug discovery, personalized education platforms, and virtual assistants.\\n\\n- **Ethical Considerations**: Must address ethical issues like bias reduction, job displacement concerns, privacy concerns, and legal responsibilities to ensure responsible AI development.\\n\\n- **Transparency**: Importance of interpretable AI models to allow users to understand decision-making processes in areas like credit scoring or hiring systems.\\n\\n- **Computational Power**: Relies on advanced computational resources for processing large datasets and executing complex algorithms efficiently.\\n\\n- **Future Outlook**: AI integration into future technologies is expected, including advancements from quantum computing and enhanced human-AI collaboration to tackle global challenges.\""
      ]
     },
     "execution_count": 14,
     "metadata": {},
     "output_type": "execute_result"
    }
   ],
   "source": [
    "response"
   ]
  },
  {
   "cell_type": "markdown",
   "metadata": {},
   "source": [
    "### Chaining Runnables (Chain Multiple Runnables)"
   ]
  },
  {
   "cell_type": "code",
   "execution_count": 15,
   "metadata": {},
   "outputs": [
    {
     "data": {
      "text/plain": [
       "ChatPromptTemplate(input_variables=['college', 'points', 'topics'], input_types={}, partial_variables={}, messages=[SystemMessagePromptTemplate(prompt=PromptTemplate(input_variables=['college'], input_types={}, partial_variables={}, template='You are {college} professor. You answer in short sentences.'), additional_kwargs={}), HumanMessagePromptTemplate(prompt=PromptTemplate(input_variables=['points', 'topics'], input_types={}, partial_variables={}, template='tell me about the {topics} in {points} points'), additional_kwargs={})])\n",
       "| ChatOllama(model='deepseek-r1', base_url='http://localhost:11434')\n",
       "| StrOutputParser()"
      ]
     },
     "execution_count": 15,
     "metadata": {},
     "output_type": "execute_result"
    }
   ],
   "source": [
    "chain"
   ]
  },
  {
   "cell_type": "code",
   "execution_count": 16,
   "metadata": {},
   "outputs": [
    {
     "name": "stdout",
     "output_type": "stream",
     "text": [
      "<think>\n",
      "Alright, the user wants to know how difficult it is to understand the text I provided about AI. They asked for a single-sentence answer.\n",
      "\n",
      "First, looking at my previous response, which had ten bullet points explaining AI as an engineering professor would do. The text covers definitions, applications, technologies, etc., in a concise manner. It's structured clearly with each point focusing on a specific aspect of AI.\n",
      "\n",
      "Now, assessing the complexity: engineers and students familiar with technical terms might find it easy to follow. However, someone without prior knowledge in AI or computer science might find some points challenging. The use of technical jargon like \"machine learning\" or \"facial recognition\" could act as barriers for those unfamiliar with these concepts.\n",
      "\n",
      "Therefore, I think the difficulty level varies depending on the audience's background. For an informed technical audience, it's quite understandable. For a general audience, it might be more challenging unless additional explanations are provided.\n",
      "</think>\n",
      "\n",
      "The text is easily understandable to engineers and students of computer science, but may require some effort for those unfamiliar with technical jargon or concepts in artificial intelligence.\n"
     ]
    }
   ],
   "source": [
    "analysis_prompt = ChatPromptTemplate.from_template('''analyze the following text: {response}\n",
    "                                                   You need tell me that how difficult it is to understand.\n",
    "                                                   Answer in one sentence only.\n",
    "                                                   ''')\n",
    "\n",
    "fact_check_chain = analysis_prompt | llm | StrOutputParser()\n",
    "output = fact_check_chain.invoke({'response': response})\n",
    "print(output)"
   ]
  },
  {
   "cell_type": "code",
   "execution_count": 17,
   "metadata": {},
   "outputs": [
    {
     "name": "stdout",
     "output_type": "stream",
     "text": [
      "<think>\n",
      "Okay, so the user asked for an explanation of AI using five key points as a PhD professor might do. I provided that earlier.\n",
      "\n",
      "Now, they're following up with another query: \"how difficult it is to understand.\" They want this answer in one sentence only.\n",
      "\n",
      "First, I need to assess what makes AI hard to grasp. It's multifaceted—AI involves complex concepts like machine learning, algorithms, and ethics. Plus, the rapid evolution means it's always changing, making it challenging for everyone to keep up.\n",
      "\n",
      "I should highlight these points concisely in one sentence without getting too technical since they might not be familiar with all AI jargon.\n",
      "</think>\n",
      "\n",
      "Understanding AI can be challenging due to its complexity involving advanced concepts like machine learning, algorithms, and ethical considerations, compounded by rapid technological evolution.\n"
     ]
    }
   ],
   "source": [
    "composed_chain = {\"response\": chain} | analysis_prompt | llm | StrOutputParser()\n",
    "\n",
    "output = composed_chain.invoke({'college': 'phd', 'topics': 'AI', 'points': 5})\n",
    "print(output)"
   ]
  },
  {
   "cell_type": "code",
   "execution_count": 18,
   "metadata": {},
   "outputs": [
    {
     "name": "stdout",
     "output_type": "stream",
     "text": [
      "<think>\n",
      "Okay, so I need to explain AI in two points. Let's see... First, AI stands for Artificial Intelligence. It involves machines learning from data and making decisions or predictions based on that information. That part seems straightforward.\n",
      "\n",
      "Now, the second point should cover how these machines improve our lives. Maybe talk about things like automation, healthcare advancements, customer service, entertainment, and even helping with decision-making in various industries. I need to make sure it's concise but covers a broad range of applications without getting too detailed.\n",
      "\n",
      "Wait, maybe I can combine those into two clear, separate points. Let me try structuring them:\n",
      "\n",
      "1. AI is about machines learning from data to perform tasks like prediction or decision-making.\n",
      "2. AI enhances daily life through automation, healthcare, customer service, entertainment, and smarter decisions across industries.\n",
      "\n",
      "Hmm, that sounds good. Each point covers a main aspect: what AI does and how it benefits us.\n",
      "</think>\n",
      "\n",
      "AI, or Artificial Intelligence, refers to machines designed to learn from data and make decisions or predictions based on patterns identified within that information. These systems enhance daily life by automating tasks, improving healthcare through advanced diagnostics, providing personalized customer service, enriching entertainment experiences, and aiding smarter decision-making across industries.\n"
     ]
    }
   ],
   "source": [
    "system = SystemMessagePromptTemplate.from_template('You are {college} professor. You answer in short sentences.')\n",
    "\n",
    "question = HumanMessagePromptTemplate.from_template('tell me about the {topics} in {points} points')\n",
    "\n",
    "\n",
    "messages = [system, question]\n",
    "template = ChatPromptTemplate(messages)\n",
    "fact_chain = template | llm | StrOutputParser()\n",
    "\n",
    "output = fact_chain.invoke({'college': 'engineering', 'topics': 'AI', 'points': 2})\n",
    "print(output)"
   ]
  },
  {
   "cell_type": "markdown",
   "metadata": {},
   "source": [
    "### Chain Router\n"
   ]
  },
  {
   "cell_type": "code",
   "execution_count": 21,
   "metadata": {},
   "outputs": [
    {
     "data": {
      "text/plain": [
       "'<think>\\nOkay, so I need to determine if the given user review is positive or negative. The review is: \"Thank you so much for providing such a great platform for learning. I am really happy with the service.\" \\n\\nFirst, let me break down the sentence structure. The user starts with a thank you, which is usually an indicator of satisfaction. They mention getting a \"great platform\" and are \"happy\" with the service. These words like \"great\" and \"happy\" are positive adjectives.\\n\\nI should also consider any negative aspects mentioned. In this case, there\\'s nothing that would suggest dissatisfaction or anything negative. The tone is clearly enthusiastic and grateful.\\n\\nAdditionally, the structure of the sentence uses positive language throughout. They appreciate the service, which reinforces a positive sentiment.\\n\\nSo putting it all together, the review is definitely expressing satisfaction and happiness with the service provided.\\n</think>\\n\\nPositive'"
      ]
     },
     "execution_count": 21,
     "metadata": {},
     "output_type": "execute_result"
    }
   ],
   "source": [
    "prompt = \"\"\"Given the user review below, classify it as either being about `Positive` or `Negative`.\n",
    "            Do not respond with more than one word.\n",
    "\n",
    "            Review: {review}\n",
    "            Classification:\"\"\"\n",
    "\n",
    "template = ChatPromptTemplate.from_template(prompt)\n",
    "\n",
    "chain = template | llm | StrOutputParser()\n",
    "\n",
    "review = \"Thank you so much for providing such a great plateform for learning. I am really happy with the service.\"\n",
    "chain.invoke({'review': review})"
   ]
  },
  {
   "cell_type": "code",
   "execution_count": 22,
   "metadata": {},
   "outputs": [],
   "source": [
    "positive_prompt = \"\"\"\n",
    "                You are expert in writing reply for positive reviews.\n",
    "                You need to encourage the user to share their experience on social media.\n",
    "                Review: {review}\n",
    "                Answer:\"\"\"\n",
    "\n",
    "positive_template = ChatPromptTemplate.from_template(positive_prompt)\n",
    "positive_chain = positive_template | llm | StrOutputParser()"
   ]
  },
  {
   "cell_type": "code",
   "execution_count": 23,
   "metadata": {},
   "outputs": [],
   "source": [
    "negative_prompt = \"\"\"\n",
    "                You are expert in writing reply for negative reviews.\n",
    "                You need first to apologize for the inconvenience caused to the user.\n",
    "                You need to encourage the user to share their concern on following Email:'support@gmail.com'.\n",
    "                Review: {review}\n",
    "                Answer:\"\"\"\n",
    "\n",
    "\n",
    "negative_template = ChatPromptTemplate.from_template(negative_prompt)\n",
    "negative_chain = negative_template | llm | StrOutputParser()"
   ]
  },
  {
   "cell_type": "code",
   "execution_count": 24,
   "metadata": {},
   "outputs": [],
   "source": [
    "def rout(info):\n",
    "    if 'positive' in info['sentiment'].lower():\n",
    "        return positive_chain\n",
    "    else:\n",
    "        return negative_chain"
   ]
  },
  {
   "cell_type": "code",
   "execution_count": 25,
   "metadata": {},
   "outputs": [
    {
     "data": {
      "text/plain": [
       "ChatPromptTemplate(input_variables=['review'], input_types={}, partial_variables={}, messages=[HumanMessagePromptTemplate(prompt=PromptTemplate(input_variables=['review'], input_types={}, partial_variables={}, template=\"\\n                You are expert in writing reply for negative reviews.\\n                You need first to apologize for the inconvenience caused to the user.\\n                You need to encourage the user to share their concern on following Email:'support@gmail.com'.\\n                Review: {review}\\n                Answer:\"), additional_kwargs={})])\n",
       "| ChatOllama(model='deepseek-r1', base_url='http://localhost:11434')\n",
       "| StrOutputParser()"
      ]
     },
     "execution_count": 25,
     "metadata": {},
     "output_type": "execute_result"
    }
   ],
   "source": [
    "rout({'sentiment': 'negetive'})"
   ]
  },
  {
   "cell_type": "code",
   "execution_count": 26,
   "metadata": {},
   "outputs": [],
   "source": [
    "from langchain_core.runnables import RunnableLambda"
   ]
  },
  {
   "cell_type": "code",
   "execution_count": 27,
   "metadata": {},
   "outputs": [],
   "source": [
    "full_chain = {\"sentiment\": chain, 'review': lambda x: x['review']} | RunnableLambda(rout)"
   ]
  },
  {
   "cell_type": "code",
   "execution_count": 28,
   "metadata": {},
   "outputs": [
    {
     "data": {
      "text/plain": [
       "{\n",
       "  sentiment: ChatPromptTemplate(input_variables=['review'], input_types={}, partial_variables={}, messages=[HumanMessagePromptTemplate(prompt=PromptTemplate(input_variables=['review'], input_types={}, partial_variables={}, template='Given the user review below, classify it as either being about `Positive` or `Negative`.\\n            Do not respond with more than one word.\\n\\n            Review: {review}\\n            Classification:'), additional_kwargs={})])\n",
       "             | ChatOllama(model='deepseek-r1', base_url='http://localhost:11434')\n",
       "             | StrOutputParser(),\n",
       "  review: RunnableLambda(lambda x: x['review'])\n",
       "}\n",
       "| RunnableLambda(rout)"
      ]
     },
     "execution_count": 28,
     "metadata": {},
     "output_type": "execute_result"
    }
   ],
   "source": [
    "full_chain"
   ]
  },
  {
   "cell_type": "code",
   "execution_count": 29,
   "metadata": {},
   "outputs": [
    {
     "name": "stdout",
     "output_type": "stream",
     "text": [
      "<think>\n",
      "Okay, so I'm trying to figure out how to respond to this review. The reviewer said, \"Thank you so much for providing such a great platform for learning. I am really happy with the service.\" That's pretty positive! My goal is to acknowledge their kind words and maybe encourage them to share their experience on social media.\n",
      "\n",
      "First, I should start by thanking them again because they took the time to write a review. Then, mention that I'm glad they're happy with the platform. After that, perhaps ask if they'd like to share it on social media or any other way I can celebrate their feedback. This shows I value their input and am open to further engagement.\n",
      "\n",
      "I need to make sure the tone is friendly and enthusiastic without being overbearing. Using emojis could add a nice touch, but I don't want to overdo it. Maybe just one if needed.\n",
      "\n",
      "Putting it all together: express gratitude, confirm that they're happy with the service, offer to share on social media or other methods, and keep the overall tone positive and encouraging.\n",
      "</think>\n",
      "\n",
      "Dear [User's Name],\n",
      "\n",
      "Thank you so much for taking the time to share your feedback! I'm thrilled to hear that you're enjoying our platform. If you'd like to share this review on social media or any other way that works best for you, let me know—I'm happy to help!\n",
      "\n",
      "Keep up the great work and thanks again for your positive experience.\n",
      "\n",
      "Warm regards,  \n",
      "[Your Name]\n"
     ]
    }
   ],
   "source": [
    "review = \"Thank you so much for providing such a great plateform for learning. I am really happy with the service.\"\n",
    "\n",
    "output = full_chain.invoke({'review': review})\n",
    "print(output)"
   ]
  },
  {
   "cell_type": "markdown",
   "metadata": {},
   "source": [
    "### Make Custom Chain Runnables with RunnablePassthrough and RunnableLambda\n",
    "\n"
   ]
  },
  {
   "cell_type": "code",
   "execution_count": 30,
   "metadata": {},
   "outputs": [],
   "source": [
    "from langchain_core.runnables import RunnablePassthrough, RunnableLambda"
   ]
  },
  {
   "cell_type": "code",
   "execution_count": 31,
   "metadata": {},
   "outputs": [],
   "source": [
    "def char_counts(text):\n",
    "    return len(text)\n",
    "\n",
    "def word_counts(text):\n",
    "    return len(text.split())\n",
    "\n",
    "prompt = ChatPromptTemplate.from_template(\"Explain these inputs in 5 sentences: {input1} and {input2}\")"
   ]
  },
  {
   "cell_type": "code",
   "execution_count": 32,
   "metadata": {},
   "outputs": [
    {
     "data": {
      "text/plain": [
       "ChatPromptTemplate(input_variables=['input1', 'input2'], input_types={}, partial_variables={}, messages=[HumanMessagePromptTemplate(prompt=PromptTemplate(input_variables=['input1', 'input2'], input_types={}, partial_variables={}, template='Explain these inputs in 5 sentences: {input1} and {input2}'), additional_kwargs={})])"
      ]
     },
     "execution_count": 32,
     "metadata": {},
     "output_type": "execute_result"
    }
   ],
   "source": [
    "prompt"
   ]
  },
  {
   "cell_type": "code",
   "execution_count": 33,
   "metadata": {},
   "outputs": [
    {
     "name": "stdout",
     "output_type": "stream",
     "text": [
      "<think>\n",
      "Okay, so I need to explain why the Earth is considered a planet and why the Sun is called a star. Hmm, let's start with the Earth first. I remember that planets are celestial bodies orbiting stars, but what exactly makes Earth unique among them?\n",
      "\n",
      "Well, Earth gets its energy from the Sun through sunlight. That must be part of it. But wait, Mercury, Venus, and Mars also get their energy from the Sun, so why isn't Mercury a planet then? Maybe it's because Earth has life? But that feels more like a reason for something being alive rather than what classifies it as a planet.\n",
      "\n",
      "Oh right, there were theories about planets before it was confirmed. I think some ancient ideas said Earth was different because of its characteristics, maybe having a magnetic field or something else that makes it suitable for life. So maybe the presence of life is part of why we classify Earth as a planet.\n",
      "\n",
      "Now, moving on to the Sun being a star. The Sun emits light and heat, but so do other stars. What sets the Sun apart? It's much brighter than other stars in our galaxy. Maybe its size or temperature plays a role. Also, it's located within our Milky Way galaxy, which is special because we're part of that system.\n",
      "\n",
      "I also recall something about nuclear fusion happening inside the Sun. That process generates energy, which again distinguishes it from other stars where fusion might not be occurring in the same way. Additionally, the Sun's position as a star in our galaxy helps categorize it correctly within the broader context of celestial objects.\n",
      "\n",
      "Wait, but why isn't the Sun considered just a massive ball of gas? It must have specific characteristics that classify it as a star. Maybe its brightness across the electromagnetic spectrum is unique, or perhaps its life cycle is different from other stars we might see in other galaxies.\n",
      "\n",
      "Putting this all together, I think Earth is a planet because it's the only known one with life and has specific features like a magnetic field that support that. The Sun is a star because of its massive size, nuclear fusion, brightness, and being part of our galaxy.\n",
      "</think>\n",
      "\n",
      "The Earth is classified as a planet due to several unique characteristics: it is the only known celestial body in our solar system confirmed to support life, it possesses a magnetic field that helps protect our atmosphere from solar winds, and it has specific features like water and organic compounds necessary for sustaining life. Additionally, Earth's orbit and axial tilt contribute to its habitable conditions.\n",
      "\n",
      "The Sun is categorized as a star because of its immense size, luminosity, and the process of nuclear fusion in its core, which provides the energy that warms and lightens the solar system. It emits electromagnetic radiation across various wavelengths and is part of our local galaxy, the Milky Way, distinguishing it from other stars in the universe. These attributes, including brightness and the ability to sustain life as we know it on Earth, set both Earth and the Sun apart within their respective categories.\n"
     ]
    }
   ],
   "source": [
    "chain = prompt | llm | StrOutputParser()\n",
    "\n",
    "output = chain.invoke({'input1': 'Earth is planet', 'input2': 'Sun is star'})\n",
    "\n",
    "print(output)"
   ]
  },
  {
   "cell_type": "code",
   "execution_count": 39,
   "metadata": {},
   "outputs": [
    {
     "name": "stdout",
     "output_type": "stream",
     "text": [
      "{'char_counts': 2071, 'word_counts': 345, 'output': '<think>\\nOkay, so I need to explain two statements: \"Earth is a planet\" and \"Sun is a star.\" Let me start by recalling what I know about planets and stars.\\n\\nFirst, the Earth. I know it\\'s one of the eight planets in our solar system. Planets are celestial bodies that orbit other stars, usually smaller than stars themselves. They have atmospheres, some with liquid water, which supports life as we know it. So, \"Earth is a planet\" makes sense because Earth fits all those criteria.\\n\\nNow, the Sun. I remember that the Sun is our nearest star to Earth. Stars are massive, luminous spheres powered by nuclear fusion, and they emit light and heat. The Sun provides the energy that sustains life on Earth through photosynthesis. So, \"Sun is a star\" because it meets all the necessary characteristics of stars.\\n\\nWait, but do I need to consider if there\\'s anything else? Maybe the difference between planets and stars: planets are smaller, orbit stars, while stars are much larger and don\\'t move around them. Also, stars like the Sun emit light and heat continuously, whereas planets just reflect that energy. So yes, Earth being a planet is accurate because it orbits the Sun and has features that support life.\\n\\nI think I\\'ve got the basics covered. Maybe I should also mention how they are different but related in our solar system for completeness.\\n</think>\\n\\nThe statement \"Earth is a planet\" accurately describes Earth as one of the eight planets in our solar system, orbiting the Sun with characteristics like an atmosphere and liquid water, essential for life.\\n\\nSimilarly, \"Sun is a star\" correctly identifies the Sun as our nearest star to Earth, providing energy through nuclear fusion that sustains life on Earth via processes like photosynthesis.\\n\\nWhile both are celestial bodies in their respective roles—one as a planet orbiting a star and the other as a star at the solar system\\'s center—they differ significantly: stars are larger, emit light and heat independently, while planets orbit them. This distinction highlights their unique places in our cosmic hierarchy.'}\n"
     ]
    }
   ],
   "source": [
    "chain = prompt | llm | StrOutputParser() | {'char_counts': RunnableLambda(char_counts), \n",
    "                                            'word_counts': RunnableLambda(word_counts), \n",
    "                                            'output': RunnablePassthrough()}\n",
    "\n",
    "output = chain.invoke({'input1': 'Earth is planet', 'input2': 'Sun is star'})\n",
    "\n",
    "print(output)"
   ]
  },
  {
   "cell_type": "markdown",
   "metadata": {},
   "source": [
    "### The .pipe() method for Chaining Runnables"
   ]
  },
  {
   "cell_type": "code",
   "execution_count": 38,
   "metadata": {},
   "outputs": [],
   "source": [
    "from langchain_core.runnables import chain"
   ]
  },
  {
   "cell_type": "code",
   "execution_count": 5,
   "metadata": {},
   "outputs": [
    {
     "data": {
      "text/plain": [
       "'<think>\\nOkay, so I need to come up with a joke about bears. Hmm, where do I start? Well, I know that bears are common animals, but they have some unique traits that might be funny to play on in a joke.\\n\\nLet me think about their characteristics. Bears hibernate, right? So maybe something related to that. Or perhaps their size or how they look. Wait, there\\'s also the stereotype of bears being grizzly or bear-like, so maybe I can make a joke based on that image.\\n\\nAnother thought: sometimes bears are associated with cubs or family units, like in stories where a mother bear takes care of her cub. Maybe that could be a basis for a joke about responsibilities or something.\\n\\nOh, I remember once I heard a joke about a bear\\'s favorite game. It was something along the lines of hide and seek, but with a twist. Let me try to piece it together: \"Why don\\'t bears play hide and seek? Because they have no idea where their honey is.\" Wait, does that make sense?\\n\\nWait, the setup is a classic for hide and seek—so maybe I need to add something about what\\'s being sought. Honey? Maybe because bees are often associated with being in trees or hives, which could relate to where bears would look for honey. But I\\'m not sure if that\\'s the best angle.\\n\\nAlternatively, maybe the bear\\'s \"honey\" is actually referring to something else they\\'re known for. Wait, another idea: \"Why did the bear bring a ladder to a picnic?\" Because he heard someone was bringing food up from behind the tree! Hah, but I\\'m not sure if that\\'s good either.\\n\\nWait, going back to the first joke: \"Why don\\'t bears play hide and seek? Because they have no idea where their honey is.\" Is that funny? It plays on the fact that bears are known for hibernating in caves or dens with piles of food (honeycombs), so the \"honey\" part makes sense. Plus, it\\'s a play on words because honey can be confused with bees, but in this case, it\\'s just a pun on the food.\\n\\nI think that works as a joke. It uses the stereotype of bears being good at finding food and combines it with the game hide and seek.\\n</think>\\n\\n\"Why don\\'t bears play hide and seek? Because they have no idea where their honey is.\"\\n\\nThis joke plays on the stereotype of bears being proficient in finding food, using \"honey\" as a pun to combine with the game\\'s theme.'"
      ]
     },
     "execution_count": 5,
     "metadata": {},
     "output_type": "execute_result"
    }
   ],
   "source": [
    "from langchain_core.output_parsers import StrOutputParser\n",
    "from langchain_core.prompts import ChatPromptTemplate\n",
    "\n",
    "prompt = ChatPromptTemplate.from_template(\"tell me a joke about {topic}\")\n",
    "\n",
    "chain = prompt | model | StrOutputParser()\n",
    "\n",
    "chain.invoke({\"topic\": \"bears\"})"
   ]
  },
  {
   "cell_type": "code",
   "execution_count": 7,
   "metadata": {},
   "outputs": [
    {
     "data": {
      "text/plain": [
       "'<think>\\nAlright, so I need to figure out if this joke is funny: \"Why did the bear never go to school? Because it didn\\'t have any fish in its lunchbox!\" Hmm, okay. Let me break this down.\\n\\nFirst off, I know that this is a classic joke about bears not having fish in their lunchboxes, so they don\\'t go to school. It\\'s based on the stereotype of bears and honey, where bees make honey but bears don\\'t have it because they eat plants instead.\\n\\nBut is this funny? Well, it relies on wordplay with \"lunchbox\" sounding like \"lunch box,\" which is a container for food, not something you carry around. The humor comes from the unexpected twist of the bear\\'s lack of fish leading to not going to school. It\\'s simple and gets the point across without being too complicated.\\n\\nI think it\\'s funny because it\\'s so reliant on stereotypes, but maybe that\\'s why people find it amusing—it plays on common associations with bears in a light-hearted way. The surprise element makes it funnier. Plus, it\\'s easy to remember and share, which adds to its appeal as a joke.\\n</think>\\n\\nThe classic bear joke \"Why did the bear never go to school? Because it didn\\'t have any fish in its lunchbox!\" is funny due to its reliance on wordplay and stereotypes. The humor comes from the unexpected twist of the bear\\'s lack of fish leading to not attending school, relying on a simple pun and common associations with bears. Its surprise element and ease of recall make it a amusing joke.'"
      ]
     },
     "execution_count": 7,
     "metadata": {},
     "output_type": "execute_result"
    }
   ],
   "source": [
    "from langchain_core.output_parsers import StrOutputParser\n",
    "\n",
    "analysis_prompt = ChatPromptTemplate.from_template(\"is this a funny joke? {joke}\")\n",
    "\n",
    "composed_chain = {\"joke\": chain} | analysis_prompt | model | StrOutputParser()\n",
    "\n",
    "composed_chain.invoke({\"topic\": \"bears\"})"
   ]
  },
  {
   "cell_type": "code",
   "execution_count": 8,
   "metadata": {},
   "outputs": [
    {
     "data": {
      "text/plain": [
       "'<think>\\nAlright, let me break down how I came up with that joke.\\n\\nFirst, I thought about what makes beets unique—like their color, association with raw consumption, or even health-related uses. Then, considering the \"beat\" theme from previous jokes, I wanted something catchy yet relatable to vegetables. \\n\\nI considered phrases starting with \"beat,\" but realized a better approach was using the \"see the light\" idiom in a pun related to beets. The joke plays on both literal and figurative meanings of \"seeing the light,\" making it both clever and easy to understand.\\n</think>\\n\\nSure! Here\\'s a funny joke about beets:\\n\\nWhy did the beet refuse to sleep at night?  \\nBecause it was seeing the light!\\n\\nThis one plays on the double meaning of \"see the light,\" which can mean either physical illumination or figurative action.'"
      ]
     },
     "execution_count": 8,
     "metadata": {},
     "output_type": "execute_result"
    }
   ],
   "source": [
    "composed_chain_with_lambda = (\n",
    "    chain\n",
    "    | (lambda input: {\"joke\": input})\n",
    "    | analysis_prompt\n",
    "    | model\n",
    "    | StrOutputParser()\n",
    ")\n",
    "\n",
    "composed_chain_with_lambda.invoke({\"topic\": \"beets\"})"
   ]
  },
  {
   "cell_type": "code",
   "execution_count": 9,
   "metadata": {},
   "outputs": [
    {
     "data": {
      "text/plain": [
       "'<think>\\nAlright, let me walk through how I came up with that joke. The show is all about big spaceships, so the first thing was to play on the words \"battleship\" and \"starship.\" Combining them gives \"battlestar,\" which hints at the ship\\'s dual nature. I wanted it to sound catchy and a bit humorous, so ending with a pun that plays on the ship\\'s size and identity ties it all together.\\n</think>\\n\\n**Joke:**  \\n\"The Battlestar Galactica is a ship so big, even its name makes you think of battles.\"\\n\\nThis joke cleverly combines \"battleship\" and \"starship,\" creating a playful reference to the show\\'s themes.'"
      ]
     },
     "execution_count": 9,
     "metadata": {},
     "output_type": "execute_result"
    }
   ],
   "source": [
    "from langchain_core.runnables import RunnableParallel\n",
    "\n",
    "composed_chain_with_pipe = (\n",
    "    RunnableParallel({\"joke\": chain})\n",
    "    .pipe(analysis_prompt)\n",
    "    .pipe(model)\n",
    "    .pipe(StrOutputParser())\n",
    ")\n",
    "\n",
    "composed_chain_with_pipe.invoke({\"topic\": \"battlestar galactica\"})"
   ]
  },
  {
   "cell_type": "code",
   "execution_count": 10,
   "metadata": {},
   "outputs": [],
   "source": [
    "composed_chain_with_pipe = RunnableParallel({\"joke\": chain}).pipe(\n",
    "    analysis_prompt, model, StrOutputParser()\n",
    ")"
   ]
  },
  {
   "cell_type": "code",
   "execution_count": 4,
   "metadata": {},
   "outputs": [],
   "source": [
    "model = ChatOllama(base_url='http://localhost:11434', model='deepseek-r1')"
   ]
  },
  {
   "cell_type": "code",
   "execution_count": null,
   "metadata": {},
   "outputs": [],
   "source": []
  },
  {
   "cell_type": "code",
   "execution_count": null,
   "metadata": {},
   "outputs": [],
   "source": []
  },
  {
   "cell_type": "code",
   "execution_count": null,
   "metadata": {},
   "outputs": [],
   "source": []
  },
  {
   "cell_type": "code",
   "execution_count": null,
   "metadata": {},
   "outputs": [],
   "source": []
  }
 ],
 "metadata": {
  "kernelspec": {
   "display_name": "Python 3",
   "language": "python",
   "name": "python3"
  },
  "language_info": {
   "codemirror_mode": {
    "name": "ipython",
    "version": 3
   },
   "file_extension": ".py",
   "mimetype": "text/x-python",
   "name": "python",
   "nbconvert_exporter": "python",
   "pygments_lexer": "ipython3",
   "version": "3.12.6"
  }
 },
 "nbformat": 4,
 "nbformat_minor": 2
}
